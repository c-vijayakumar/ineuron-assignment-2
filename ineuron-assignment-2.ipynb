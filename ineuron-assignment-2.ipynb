{
 "cells": [
  {
   "cell_type": "markdown",
   "metadata": {},
   "source": [
    "## <font color='blue'>Assignment 2 - > Task 1</font>"
   ]
  },
  {
   "cell_type": "markdown",
   "metadata": {},
   "source": [
    "#### <font color='blue'> 1. Write a Python Program to implement your own myreduce() function which works exactly likePython's built-in function reduce() </font>"
   ]
  },
  {
   "cell_type": "code",
   "execution_count": 105,
   "metadata": {
    "collapsed": false
   },
   "outputs": [
    {
     "data": {
      "text/plain": [
       "99"
      ]
     },
     "execution_count": 105,
     "metadata": {},
     "output_type": "execute_result"
    }
   ],
   "source": [
    "def myreduce(func, seq):\n",
    "    val = 0;\n",
    "    indexs = list( range(1, len(seq)) )\n",
    "    for index in indexs:\n",
    "      val = func(seq[index-1], seq[index])\n",
    "    return val\n",
    "\n",
    "mumber_lst = [10, 20, 23, 30, 99, 89]\n",
    "myreduce(lambda a, b: ( a if a > b else b ), mumber_lst)"
   ]
  },
  {
   "cell_type": "markdown",
   "metadata": {},
   "source": [
    "#### <font color='blue'>2. Write a Python program to implement your own myfilter() function which works exactly likePython's built-in function filter()</font>"
   ]
  },
  {
   "cell_type": "code",
   "execution_count": 119,
   "metadata": {
    "collapsed": false
   },
   "outputs": [
    {
     "data": {
      "text/plain": [
       "[0, 5, 10, 15, 20, 25, 30, 35]"
      ]
     },
     "execution_count": 119,
     "metadata": {},
     "output_type": "execute_result"
    }
   ],
   "source": [
    "def myfilter(func, seq):    \n",
    "    indexs =list( range(0, len(seq)) )\n",
    "    for index in indexs:\n",
    "        if func(seq[index]) == True:\n",
    "            yield seq[index]\n",
    "            \n",
    "number_lst = list( range(0, 40)) \n",
    "list(myfilter(lambda a: a % 5 == 0, number_lst))\n"
   ]
  },
  {
   "cell_type": "markdown",
   "metadata": {},
   "source": [
    "#### <font color='blue'>3. Implement List comprehensions to produce the following lists.</font>\n",
    "\n",
    "['A', 'C', 'A', 'D', 'G', 'I', ’L’, ‘ D’]\n",
    "\n",
    "['x', 'xx', 'xxx', 'xxxx', 'y', 'yy', 'yyy', 'yyyy', 'z', 'zz', 'zzz', 'zzzz']\n",
    "\n",
    "['x', 'y', 'z', 'xx', 'yy', 'zz', 'xx', 'yy', 'zz', 'xxxx', 'yyyy', 'zzzz']\n",
    "\n",
    "[[2], [3], [4], [3], [4], [5], [4], [5], [6]]\n",
    "\n",
    "[[2, 3, 4, 5], [3, 4, 5, 6], [4, 5, 6, 7], [5, 6, 7, 8]]\n",
    "\n",
    "[(1, 1), (2, 1), (3, 1), (1, 2), (2, 2), (3, 2), (1, 3), (2, 3), (3, 3)]"
   ]
  },
  {
   "cell_type": "code",
   "execution_count": 80,
   "metadata": {
    "collapsed": false
   },
   "outputs": [
    {
     "name": "stdout",
     "output_type": "stream",
     "text": [
      "['A', 'C', 'A', 'D', 'G', 'I', 'L', 'D']\n",
      "\n",
      "\n",
      "['x', 'xx', 'xxx', 'xxxx', 'y', 'yy', 'yyy', 'yyyy', 'z', 'zz', 'zzz', 'zzzz']\n",
      "\n",
      "\n",
      "['x', 'y', 'z', 'xx', 'yy', 'zz', 'xxx', 'yyy', 'zzz', 'xxxx', 'yyyy', 'zzzz']\n",
      "\n",
      "\n",
      "[[2], [3], [4], [3], [4], [5], [4], [5], [6]]\n",
      "\n",
      "\n",
      "[[2, 3, 4, 5], [3, 4, 5, 6], [4, 5, 6, 7], [5, 6, 7, 8]]\n",
      "\n",
      "\n"
     ]
    },
    {
     "data": {
      "text/plain": [
       "[(1, 1), (2, 1), (3, 1), (1, 2), (2, 2), (3, 2), (1, 3), (2, 3), (3, 3)]"
      ]
     },
     "execution_count": 80,
     "metadata": {},
     "output_type": "execute_result"
    }
   ],
   "source": [
    "listwithCharslist = [['A', 'C', 'A', 'D'],['G', 'I', 'L', 'D']]\n",
    "print([char for listOfChars in listwithCharslist for char in listOfChars])\n",
    "print('\\n')\n",
    "\n",
    "lisfOfChars = ['x', 'y', 'z']\n",
    "listOfMultiplier = [1,2,3,4]\n",
    "print([char*multiplier for char in lisfOfChar for multiplier in listOfMultiplier])\n",
    "print('\\n')\n",
    "\n",
    "print([char*multiplier for multiplier in listOfMultiplier for char in lisfOfChars ])\n",
    "print('\\n')\n",
    "\n",
    "listofnumbers = [2, 3, 4, 5, 6]\n",
    "print([[j] for i in range(0, 3) for j in listofnumbers[i:i+3]]) \n",
    "print('\\n')\n",
    "\n",
    "listofnumbers = [2, 3, 4, 5]\n",
    "print([ [listofnumbers[i], listofnumbers[i]+1, listofnumbers[i]+2, listofnumbers[i]+3] for i in range(0, 4)]) \n",
    "\n",
    "print('\\n')\n",
    "listofnumbers = [1, 2, 3]\n",
    "[(j, i) for i in listofnumbers for j in listofnumbers]"
   ]
  },
  {
   "cell_type": "markdown",
   "metadata": {},
   "source": [
    "#### <font color='blue'>4. Implement a function longestWord() that takes a list of words and returns the longest one.</font>"
   ]
  },
  {
   "cell_type": "code",
   "execution_count": 108,
   "metadata": {
    "collapsed": false
   },
   "outputs": [
    {
     "data": {
      "text/plain": [
       "'Artificial Intelligence'"
      ]
     },
     "execution_count": 108,
     "metadata": {},
     "output_type": "execute_result"
    }
   ],
   "source": [
    "def longestWord(seq):\n",
    "    lword =''\n",
    "    indexs =list( range(0, len(seq)) )\n",
    "    for index in indexs:\n",
    "        if ( len(seq[index]) > len(lword) ):\n",
    "            lword = seq[index]\n",
    "    return lword\n",
    "\n",
    "words = ['Artificial Intelligence','Deep Learning', 'Neural Networks', 'Data Mining', 'Data Labeling']\n",
    "longestWord(words)            "
   ]
  },
  {
   "cell_type": "markdown",
   "metadata": {},
   "source": [
    "## <font color='blue'>Assignment 2 - > Task 2</font>"
   ]
  },
  {
   "cell_type": "markdown",
   "metadata": {},
   "source": [
    "#### <font color='blue'>1. Write a Python Program(with class concepts) to find the area of the triangle using the below formula</font>\n",
    "\n",
    "area = (s*(s-a)*(s-b)*(s-c)) ** 0.5\n",
    "\n",
    "Function to take the length of the sides of triangle from user should be defined in the parent class and function to calculate the area should be defined in subclass"
   ]
  },
  {
   "cell_type": "code",
   "execution_count": 98,
   "metadata": {
    "collapsed": false,
    "scrolled": true
   },
   "outputs": [
    {
     "name": "stdout",
     "output_type": "stream",
     "text": [
      "Enter first side length: 23\n",
      "Enter second side lenght: 12\n",
      "Enter thrid side length: 34\n",
      "The area of the triangle is 66.81\n"
     ]
    }
   ],
   "source": [
    "class Triangle:\n",
    "    def __init__(self, a, b, c):\n",
    "        self.a = a\n",
    "        self.b = b\n",
    "        self.c = c\n",
    "        \n",
    "class AreaOfTriangle(Triangle):\n",
    "    def __init__(self, *args):\n",
    "       super(AreaOfTriangle, self).__init__(*args)\n",
    "    def area(self):\n",
    "        s = (a + b +c) / 2\n",
    "        return (s * (s - a) * (s - b) * (s - c)) ** 0.5\n",
    "\n",
    "a = float( input('Enter first side length: ') )\n",
    "b = float( input('Enter second side lenght: ') )\n",
    "c = float( input('Enter thrid side length: ' ) )\n",
    "print('The area of the triangle is %0.2f' % AreaOfTriangle(a , b ,c).area())"
   ]
  },
  {
   "cell_type": "markdown",
   "metadata": {},
   "source": [
    "#### <font color='blue'>2. Write a function filter_long_words() that takes a list of words and an integer n and returns the listof words that are longer than n</font>"
   ]
  },
  {
   "cell_type": "code",
   "execution_count": 112,
   "metadata": {
    "collapsed": false
   },
   "outputs": [
    {
     "data": {
      "text/plain": [
       "['Artificial Intelligence', 'Neural Networks']"
      ]
     },
     "execution_count": 112,
     "metadata": {},
     "output_type": "execute_result"
    }
   ],
   "source": [
    "def filter_long_words(seq, n):\n",
    "    return [word for word in seq if len(word) > n ]\n",
    "\n",
    "words = ['Artificial Intelligence','Deep Learning', 'Neural Networks', 'Data Mining', 'Data Labeling']\n",
    "filter_long_words(words, 14)"
   ]
  },
  {
   "cell_type": "markdown",
   "metadata": {},
   "source": [
    "#### <font color='blue'>3. Write a Python program using function concept that maps  list of words into a list of integers representing the lengths of the corresponding words​</font>\n",
    "\n",
    "Hint: ​If a list [ ab,cde,erty] is passed on to the python function output should come as [2,3,4]\n",
    "\n",
    "Here 2,3 and 4 are the lengths of the words in the list."
   ]
  },
  {
   "cell_type": "code",
   "execution_count": 115,
   "metadata": {
    "collapsed": false
   },
   "outputs": [
    {
     "data": {
      "text/plain": [
       "[23, 13, 15, 11, 13]"
      ]
     },
     "execution_count": 115,
     "metadata": {},
     "output_type": "execute_result"
    }
   ],
   "source": [
    "def map_word_with_length(seq):\n",
    "    return [len(word) for word in seq]\n",
    "\n",
    "words = ['Artificial Intelligence','Deep Learning', 'Neural Networks', 'Data Mining', 'Data Labeling']\n",
    "map_word_with_length(words)"
   ]
  },
  {
   "cell_type": "markdown",
   "metadata": {},
   "source": [
    "#### <font color='blue'>4. Write a Python function which takes a character (i.e. a string of length 1) and returns True if it isa vowel, False otherwise</font>"
   ]
  },
  {
   "cell_type": "code",
   "execution_count": 122,
   "metadata": {
    "collapsed": false
   },
   "outputs": [
    {
     "name": "stdout",
     "output_type": "stream",
     "text": [
      "True\n"
     ]
    }
   ],
   "source": [
    "def isvowel(char):\n",
    "    return 'aeiou'.count(char.lower()) != 0 \n",
    "\n",
    "print(isvowel('i'))"
   ]
  }
 ],
 "metadata": {
  "anaconda-cloud": {},
  "kernelspec": {
   "display_name": "Python [default]",
   "language": "python",
   "name": "python3"
  },
  "language_info": {
   "codemirror_mode": {
    "name": "ipython",
    "version": 3
   },
   "file_extension": ".py",
   "mimetype": "text/x-python",
   "name": "python",
   "nbconvert_exporter": "python",
   "pygments_lexer": "ipython3",
   "version": "3.5.2"
  }
 },
 "nbformat": 4,
 "nbformat_minor": 1
}
